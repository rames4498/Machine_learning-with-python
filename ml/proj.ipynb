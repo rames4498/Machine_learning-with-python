{
  "nbformat": 4,
  "nbformat_minor": 0,
  "metadata": {
    "colab": {
      "name": "proj.ipynb",
      "provenance": []
    },
    "kernelspec": {
      "name": "python3",
      "display_name": "Python 3"
    }
  },
  "cells": [
    {
      "cell_type": "code",
      "metadata": {
        "id": "CjOoNbZ7ssO7"
      },
      "source": [
        "import numpy as np\r\n",
        "import pandas as pd\r\n",
        "from keras.preprocessing.image import ImageDataGenerator,load_img\r\n",
        "from keras.utils import to_categorical\r\n",
        "from sklearn.model_selection import train_test_split\r\n",
        "import matplotlib.pyplot as plt\r\n",
        "import random\r\n",
        "import os"
      ],
      "execution_count": 1,
      "outputs": []
    },
    {
      "cell_type": "code",
      "metadata": {
        "id": "iV9RIaCJs2jv"
      },
      "source": [
        "Image_Width=128\r\n",
        "Image_Height=128\r\n",
        "Image_Size=(Image_Width,Image_Height)\r\n",
        "Image_Channels=3"
      ],
      "execution_count": null,
      "outputs": []
    },
    {
      "cell_type": "code",
      "metadata": {
        "id": "Yo55emKvs2mk"
      },
      "source": [
        "filenames=os.listdir(\"./dogs-vs-cats/train\")\r\n",
        "\r\n",
        "categories=[]\r\n",
        "for f_name in filenames:\r\n",
        "    category=f_name.split('.')[0]\r\n",
        "    if category=='dog':\r\n",
        "        categories.append(1)\r\n",
        "    else:\r\n",
        "        categories.append(0)\r\n",
        "\r\n",
        "df=pd.DataFrame({\r\n",
        "    'filename':filenames,\r\n",
        "    'category':categories\r\n",
        "})"
      ],
      "execution_count": null,
      "outputs": []
    },
    {
      "cell_type": "code",
      "metadata": {
        "id": "L-Hh0RW_s2po"
      },
      "source": [
        "from keras.models import Sequential\r\n",
        "from keras.layers import Conv2D,MaxPooling2D,\\\r\n",
        "     Dropout,Flatten,Dense,Activation,\\\r\n",
        "     BatchNormalization\r\n",
        "\r\n",
        "model=Sequential()\r\n",
        "\r\n",
        "model.add(Conv2D(32,(3,3),activation='relu',input_shape=(Image_Width,Image_Height,Image_Channels)))\r\n",
        "model.add(BatchNormalization())\r\n",
        "model.add(MaxPooling2D(pool_size=(2,2)))\r\n",
        "model.add(Dropout(0.25))\r\n",
        "\r\n",
        "model.add(Conv2D(64,(3,3),activation='relu'))\r\n",
        "model.add(BatchNormalization())\r\n",
        "model.add(MaxPooling2D(pool_size=(2,2)))\r\n",
        "model.add(Dropout(0.25))\r\n",
        "\r\n",
        "model.add(Conv2D(128,(3,3),activation='relu'))\r\n",
        "model.add(BatchNormalization())\r\n",
        "model.add(MaxPooling2D(pool_size=(2,2)))\r\n",
        "model.add(Dropout(0.25))\r\n",
        "\r\n",
        "model.add(Flatten())\r\n",
        "model.add(Dense(512,activation='relu'))\r\n",
        "model.add(BatchNormalization())\r\n",
        "model.add(Dropout(0.5))\r\n",
        "model.add(Dense(2,activation='softmax'))\r\n",
        "\r\n",
        "model.compile(loss='categorical_crossentropy',\r\n",
        "  optimizer='rmsprop',metrics=['accuracy'])"
      ],
      "execution_count": null,
      "outputs": []
    },
    {
      "cell_type": "code",
      "metadata": {
        "id": "-OxzGaxWs2sk"
      },
      "source": [
        "model.summary()"
      ],
      "execution_count": null,
      "outputs": []
    },
    {
      "cell_type": "code",
      "metadata": {
        "id": "CbcVFhRos2vF"
      },
      "source": [
        "from keras.callbacks import EarlyStopping, ReduceLROnPlateau\r\n",
        "earlystop = EarlyStopping(patience = 10)\r\n",
        "learning_rate_reduction = ReduceLROnPlateau(monitor = 'val_acc',patience = 2,verbose = 1,factor = 0.5,min_lr = 0.00001)\r\n",
        "callbacks = [earlystop,learning_rate_reduction]"
      ],
      "execution_count": null,
      "outputs": []
    },
    {
      "cell_type": "code",
      "metadata": {
        "id": "VKe73wXVLZ5y"
      },
      "source": [
        "df[\"category\"] = df[\"category\"].replace({0:'cat',1:'dog'})\r\n",
        "train_df,validate_df = train_test_split(df,test_size=0.20,\r\n",
        "  random_state=42)\r\n",
        "\r\n",
        "train_df = train_df.reset_index(drop=True)\r\n",
        "validate_df = validate_df.reset_index(drop=True)\r\n",
        "\r\n",
        "total_train=train_df.shape[0]\r\n",
        "total_validate=validate_df.shape[0]\r\n",
        "batch_size=15"
      ],
      "execution_count": null,
      "outputs": []
    },
    {
      "cell_type": "code",
      "metadata": {
        "id": "0sa8zYvALZ9L"
      },
      "source": [
        "train_datagen = ImageDataGenerator(rotation_range=15,\r\n",
        "                                rescale=1./255,\r\n",
        "                                shear_range=0.1,\r\n",
        "                                zoom_range=0.2,\r\n",
        "                                horizontal_flip=True,\r\n",
        "                                width_shift_range=0.1,\r\n",
        "                                height_shift_range=0.1\r\n",
        "                                )\r\n",
        "\r\n",
        "train_generator = train_datagen.flow_from_dataframe(train_df,\r\n",
        "                                                 \"./dogs-vs-cats/train/\",x_col='filename',y_col='category',\r\n",
        "                                                 target_size=Image_Size,\r\n",
        "                                                 class_mode='categorical',\r\n",
        "                                                 batch_size=batch_size)\r\n",
        "\r\n",
        "validation_datagen = ImageDataGenerator(rescale=1./255)\r\n",
        "validation_generator = validation_datagen.flow_from_dataframe(\r\n",
        "    validate_df, \r\n",
        "    \"./dogs-vs-cats/train/\", \r\n",
        "    x_col='filename',\r\n",
        "    y_col='category',\r\n",
        "    target_size=Image_Size,\r\n",
        "    class_mode='categorical',\r\n",
        "    batch_size=batch_size\r\n",
        ")\r\n",
        "\r\n",
        "test_datagen = ImageDataGenerator(rotation_range=15,\r\n",
        "                                rescale=1./255,\r\n",
        "                                shear_range=0.1,\r\n",
        "                                zoom_range=0.2,\r\n",
        "                                horizontal_flip=True,\r\n",
        "                                width_shift_range=0.1,\r\n",
        "                                height_shift_range=0.1)\r\n",
        "\r\n",
        "test_generator = train_datagen.flow_from_dataframe(train_df,\r\n",
        "                                                 \"./dogs-vs-cats/test/\",x_col='filename',y_col='category',\r\n",
        "                                                 target_size=Image_Size,\r\n",
        "                                                 class_mode='categorical',\r\n",
        "                                                 batch_size=batch_size)"
      ],
      "execution_count": null,
      "outputs": []
    },
    {
      "cell_type": "code",
      "metadata": {
        "id": "cn5F0abaLaA7"
      },
      "source": [
        "epochs=10\r\n",
        "history = model.fit_generator(\r\n",
        "    train_generator, \r\n",
        "    epochs=epochs,\r\n",
        "    validation_data=validation_generator,\r\n",
        "    validation_steps=total_validate//batch_size,\r\n",
        "    steps_per_epoch=total_train//batch_size,\r\n",
        "    callbacks=callbacks\r\n",
        ")"
      ],
      "execution_count": null,
      "outputs": []
    },
    {
      "cell_type": "code",
      "metadata": {
        "id": "6lTBmTAmLaD7"
      },
      "source": [
        "model.save(\"model1_catsVSdogs_10epoch.h5\")"
      ],
      "execution_count": null,
      "outputs": []
    },
    {
      "cell_type": "code",
      "metadata": {
        "id": "GiY4HDBBLaGL"
      },
      "source": [
        "test_filenames = os.listdir(\"./dogs-vs-cats/test1\")\r\n",
        "test_df = pd.DataFrame({\r\n",
        "    'filename': test_filenames\r\n",
        "})\r\n",
        "nb_samples = test_df.shape[0]"
      ],
      "execution_count": null,
      "outputs": []
    },
    {
      "cell_type": "code",
      "metadata": {
        "id": "EohKSvwnL37K"
      },
      "source": [
        "predict = model.predict_generator(test_generator, steps=np.ceil(nb_samples/batch_size))"
      ],
      "execution_count": null,
      "outputs": []
    },
    {
      "cell_type": "code",
      "metadata": {
        "id": "SH1__UcEL3-k"
      },
      "source": [
        "test_df['category'] = np.argmax(predict, axis=-1)\r\n",
        "\r\n",
        "label_map = dict((v,k) for k,v in train_generator.class_indices.items())\r\n",
        "test_df['category'] = test_df['category'].replace(label_map)\r\n",
        "\r\n",
        "test_df['category'] = test_df['category'].replace({ 'dog': 1, 'cat': 0 })"
      ],
      "execution_count": null,
      "outputs": []
    },
    {
      "cell_type": "code",
      "metadata": {
        "id": "Coi5aWE7L4BT"
      },
      "source": [
        "sample_test = test_df.head(18)\r\n",
        "sample_test.head()\r\n",
        "plt.figure(figsize=(12, 24))\r\n",
        "for index, row in sample_test.iterrows():\r\n",
        "    filename = row['filename']\r\n",
        "    category = row['category']\r\n",
        "    img = load_img(\"./dogs-vs-cats/test1/\"+filename, target_size=Image_Size)\r\n",
        "    plt.subplot(6, 3, index+1)\r\n",
        "    plt.imshow(img)\r\n",
        "    plt.xlabel(filename + '(' + \"{}\".format(category) + ')' )\r\n",
        "plt.tight_layout()\r\n",
        "plt.show()"
      ],
      "execution_count": null,
      "outputs": []
    },
    {
      "cell_type": "code",
      "metadata": {
        "id": "gsbkJ5UBLaT8"
      },
      "source": [
        "results={\r\n",
        "    0:'cat',\r\n",
        "    1:'dog'\r\n",
        "}\r\n",
        "from PIL import Image\r\n",
        "import numpy as np\r\n",
        "im=Image.open(\"__image_path_TO_custom_image\")\r\n",
        "im=im.resize(Image_Size)\r\n",
        "im=np.expand_dims(im,axis=0)\r\n",
        "im=np.array(im)\r\n",
        "im=im/255\r\n",
        "pred=model.predict_classes([im])[0]\r\n",
        "print(pred,results[pred])"
      ],
      "execution_count": null,
      "outputs": []
    }
  ]
}